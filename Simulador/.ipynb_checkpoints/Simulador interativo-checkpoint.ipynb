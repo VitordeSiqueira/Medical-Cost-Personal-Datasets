{
 "cells": [
  {
   "cell_type": "markdown",
   "id": "81ea56eb",
   "metadata": {},
   "source": [
    "## 1. Importando bibliotecas"
   ]
  },
  {
   "cell_type": "code",
   "execution_count": 45,
   "id": "8f96fcf2",
   "metadata": {},
   "outputs": [],
   "source": [
    "import numpy as np\n",
    "import pickle\n",
    "\n",
    "import warnings\n",
    "warnings.filterwarnings(\"ignore\")"
   ]
  },
  {
   "cell_type": "markdown",
   "id": "472e88ca",
   "metadata": {},
   "source": [
    "## 2. Importando o modelo"
   ]
  },
  {
   "cell_type": "code",
   "execution_count": 46,
   "id": "6b0421ae",
   "metadata": {},
   "outputs": [
    {
     "name": "stdout",
     "output_type": "stream",
     "text": [
      "2416.33661678743\n"
     ]
    }
   ],
   "source": [
    "modelo = open('../pickle_modelo','rb')\n",
    "lm_new = pickle.load(modelo)\n",
    "modelo.close()\n",
    "\n",
    "age = 24\n",
    "bmi = 24.225\n",
    "children = 0\n",
    "smoker = 0\n",
    "entrada = [[np.log(age) ,np.log(bmi), np.log(children + 1), np.log(smoker + 1)]]\n",
    "\n",
    "print(np.exp(lm_new.predict(entrada)[0]))"
   ]
  },
  {
   "cell_type": "markdown",
   "id": "689fa750",
   "metadata": {},
   "source": [
    "## 3 Exemplo de um simulador interativo para Jupyter"
   ]
  },
  {
   "cell_type": "code",
   "execution_count": 49,
   "id": "f4f0f4b9",
   "metadata": {},
   "outputs": [],
   "source": [
    "# Importando bibliotecas\n",
    "from ipywidgets import widgets, HBox, VBox\n",
    "from IPython.display import display\n",
    "\n",
    "# Criando os controles do formulário\n",
    "age = widgets.Text(description=\"Age\")\n",
    "bmi = widgets.Text(description=\"bmi\")\n",
    "children = widgets.Text(description=\"children\")\n",
    "smoker = widgets.Text(description=\"smoker\")\n",
    "\n",
    "botao = widgets.Button(description=\"Simular\")\n",
    "\n",
    "# Posicionando os controles\n",
    "left = VBox([age, bmi])\n",
    "right = VBox([children, smoker])\n",
    "inputs = HBox([left, right])\n",
    "\n",
    "# Função de simulação\n",
    "def simulador(sender):\n",
    "    entrada=[[\n",
    "                float(age.value if age.value else 0), \n",
    "                float(bmi.value if bmi.value else 0), \n",
    "                float(children.value if children.value else 0) + 1, \n",
    "                float(smoker.value if smoker.value else 0) + 1, \n",
    "             ]]\n",
    "    entrada = np.log(entrada)\n",
    "    print('$ {:.2f}'.format(np.exp(lm_new.predict(entrada)[0])))\n",
    "    \n",
    "# Atribuindo a função \"simulador\" ao evento click do botão\n",
    "botao.on_click(simulador)    "
   ]
  },
  {
   "cell_type": "code",
   "execution_count": 50,
   "id": "fa44e5fa",
   "metadata": {},
   "outputs": [
    {
     "data": {
      "application/vnd.jupyter.widget-view+json": {
       "model_id": "d3784f1c1ecd45af8a856d9b912dd3d6",
       "version_major": 2,
       "version_minor": 0
      },
      "text/plain": [
       "HBox(children=(VBox(children=(Text(value='', description='Age'), Text(value='', description='bmi'))), VBox(chi…"
      ]
     },
     "metadata": {},
     "output_type": "display_data"
    },
    {
     "data": {
      "application/vnd.jupyter.widget-view+json": {
       "model_id": "b957da8cc729436b8d70012a8e7f81b7",
       "version_major": 2,
       "version_minor": 0
      },
      "text/plain": [
       "Button(description='Simular', style=ButtonStyle())"
      ]
     },
     "metadata": {},
     "output_type": "display_data"
    },
    {
     "name": "stdout",
     "output_type": "stream",
     "text": [
      "$ 2416.34\n"
     ]
    }
   ],
   "source": [
    "display(inputs, botao)"
   ]
  },
  {
   "cell_type": "code",
   "execution_count": null,
   "id": "fdcbdf40",
   "metadata": {},
   "outputs": [],
   "source": []
  }
 ],
 "metadata": {
  "kernelspec": {
   "display_name": "Python 3 (ipykernel)",
   "language": "python",
   "name": "python3"
  },
  "language_info": {
   "codemirror_mode": {
    "name": "ipython",
    "version": 3
   },
   "file_extension": ".py",
   "mimetype": "text/x-python",
   "name": "python",
   "nbconvert_exporter": "python",
   "pygments_lexer": "ipython3",
   "version": "3.9.13"
  }
 },
 "nbformat": 4,
 "nbformat_minor": 5
}
